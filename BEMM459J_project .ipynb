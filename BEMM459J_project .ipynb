{
 "cells": [
  {
   "cell_type": "code",
   "execution_count": 105,
   "id": "5cd6e5c7",
   "metadata": {},
   "outputs": [],
   "source": [
    "import sqlite3\n",
    "import pandas as pd\n",
    "import matplotlib.pyplot as plt\n",
    "import datetime\n",
    "from dateutil.relativedelta import relativedelta, MO\n",
    "from matplotlib import colors\n",
    "import numpy as np\n",
    "\n",
    "import ipywidgets as widgets\n",
    "from IPython.display import display"
   ]
  },
  {
   "cell_type": "code",
   "execution_count": 106,
   "id": "a396946e",
   "metadata": {},
   "outputs": [
    {
     "name": "stdout",
     "output_type": "stream",
     "text": [
      "<class 'sqlite3.Connection'>\n",
      "<class 'sqlite3.Cursor'>\n"
     ]
    }
   ],
   "source": [
    "# Connect to the Database \n",
    "conn=sqlite3.connect('BEMM459J_Group_21.db')\n",
    "\n",
    "# conn is an object of the Connection class - the next command is only for display\n",
    "print(type(conn))\n",
    "\n",
    "# Enable foreign key for refential integrity\n",
    "conn.execute(\"PRAGMA foreign_keys = 1\")\n",
    "\n",
    "# The connection object (conn) has access to various methods of the Connection class. \n",
    "# We are using the method cursor() and which returns a cursor object.\n",
    "# The cursor object is essential to perform any operation on the database (CRUD operations).\n",
    "cur=conn.cursor()\n",
    "\n",
    "# The next command is only for display\n",
    "print(type(cur))"
   ]
  },
  {
   "cell_type": "markdown",
   "id": "2cf8f7e2",
   "metadata": {},
   "source": [
    "## Create tables"
   ]
  },
  {
   "cell_type": "code",
   "execution_count": 107,
   "id": "8fcc1be0",
   "metadata": {},
   "outputs": [],
   "source": [
    "#creating Auditorium Table\n",
    "createTblAuditorium = \"CREATE TABLE Auditorium ( \" + \\\n",
    "                  \"Auditorium_id int NOT NULL, \" + \\\n",
    "                  \"Auditorium_name varchar(32) NOT NULL, \" + \\\n",
    "                  \"Location varchar(256) NOT NULL, \" + \\\n",
    "                  \"Seats_no int NOT NULL, \" + \\\n",
    "                  \"Num_screens int NOT NULL, \" + \\\n",
    "                  \"PRIMARY KEY (Auditorium_id) \" + \\\n",
    "                   \"); \"\n"
   ]
  },
  {
   "cell_type": "code",
   "execution_count": 108,
   "id": "ac2c824e",
   "metadata": {},
   "outputs": [],
   "source": [
    "#creating User Table\n",
    "createTblUser = \"CREATE TABLE User ( \" + \\\n",
    "                  \"User_id INTEGER PRIMARY KEY AUTOINCREMENT, \" + \\\n",
    "                  \"Username varchar(32) NOT NULL, \" + \\\n",
    "                  \"Password varchar(100) NOT NULL \" + \\\n",
    "                   \"); \"\n"
   ]
  },
  {
   "cell_type": "code",
   "execution_count": 109,
   "id": "cc1abc6b",
   "metadata": {},
   "outputs": [],
   "source": [
    "#creating Movie Table\n",
    "createTblMovie = \"CREATE TABLE Movie ( \" + \\\n",
    "                  \"Movie_id int NOT NULL, \" + \\\n",
    "                  \"Title varchar(256) NOT NULL, \" + \\\n",
    "                  \"Director varchar(256) NOT NULL, \" + \\\n",
    "                  \"Cast varchar(256) NOT NULL, \" + \\\n",
    "                  \"Description text, \" + \\\n",
    "                  \"Movie_date date NOT NULL, \" + \\\n",
    "                  \"Duration_min int NOT NULL, \" + \\\n",
    "                  \"PRIMARY KEY (Movie_id) \" + \\\n",
    "                   \"); \"\n"
   ]
  },
  {
   "cell_type": "code",
   "execution_count": 110,
   "id": "69d73c10",
   "metadata": {},
   "outputs": [],
   "source": [
    "#creating Seat Table\n",
    "createTblSeat = \"CREATE TABLE Seat ( \" + \\\n",
    "                  \"Seat_id int NOT NULL, \" + \\\n",
    "                  \"Row int NOT NULL, \" + \\\n",
    "                  \"Number int NOT NULL, \" + \\\n",
    "                  \"Auditorium_id int NOT NULL, \" + \\\n",
    "                  \"PRIMARY KEY (Seat_id) \" + \\\n",
    "                  \"FOREIGN KEY(Auditorium_id) REFERENCES Auditorium(Auditorium_id) \" + \\\n",
    "                   \"); \"\n"
   ]
  },
  {
   "cell_type": "code",
   "execution_count": 111,
   "id": "2c810bed",
   "metadata": {},
   "outputs": [],
   "source": [
    "\n",
    "#creating Screening Table\n",
    "createTblScreening = \"CREATE TABLE Screening ( \" + \\\n",
    "                  \"Screening_id int NOT NULL, \" + \\\n",
    "                  \"Movie_id int NOT NULL, \" + \\\n",
    "                  \"Auditorium_id int NOT NULL, \" + \\\n",
    "                  \"Screening_start timestamp NOT NULL, \" + \\\n",
    "                  \"PRIMARY KEY (Screening_id), \" + \\\n",
    "                  \"UNIQUE(Screening_start), \" + \\\n",
    "                  \"UNIQUE(Auditorium_id), \" + \\\n",
    "                  \"FOREIGN KEY(Movie_id) REFERENCES Movie(Movie_id), \" + \\\n",
    "                  \"FOREIGN KEY(Auditorium_id) REFERENCES Auditorium(Auditorium_id) \" + \\\n",
    "                   \"); \"\n"
   ]
  },
  {
   "cell_type": "code",
   "execution_count": 112,
   "id": "e7f88b71",
   "metadata": {},
   "outputs": [],
   "source": [
    "\n",
    "#creating Seat_reserved Table\n",
    "createTblSeat_reserved = \"CREATE TABLE Seat_reserved ( \" + \\\n",
    "                  \"Seat_reserved_id int NOT NULL, \" + \\\n",
    "                  \"Seat_id int NOT NULL, \" + \\\n",
    "                  \"Reservation_id int NOT NULL, \" + \\\n",
    "                  \"Screening_id int NOT NULL, \" + \\\n",
    "                  \"PRIMARY KEY (Seat_reserved_id), \" + \\\n",
    "                  \"FOREIGN KEY(Seat_id) REFERENCES Seat(Seat_id), \" + \\\n",
    "                  \"FOREIGN KEY(Reservation_id) REFERENCES Reservation(Reservation_id), \" + \\\n",
    "                  \"FOREIGN KEY(Screening_id) REFERENCES Screening(Screening_id) \" + \\\n",
    "                   \"); \"\n"
   ]
  },
  {
   "cell_type": "code",
   "execution_count": 113,
   "id": "11ba340e",
   "metadata": {},
   "outputs": [],
   "source": [
    "#creating Reservation Table\n",
    "\n",
    "createTblReservation = \"CREATE TABLE Reservation ( \" + \\\n",
    "                  \"Reservation_id int NOT NULL, \" + \\\n",
    "                  \"Screening_id int NOT NULL, \" + \\\n",
    "                  \"User_reserved_id int NOT NULL, \" + \\\n",
    "                  \"Auditorium_id int NOT NULL, \" + \\\n",
    "                  \"Reservation_date date NOT NULL, \" + \\\n",
    "                  \"Reservation_contact varchar(1024) NOT NULL, \" + \\\n",
    "                  \"Reserved bool, \" + \\\n",
    "                  \"Paid bool, \" + \\\n",
    "                  \"PRIMARY KEY (Reservation_id), \" + \\\n",
    "                  \"FOREIGN KEY(Screening_id) REFERENCES Screening(Screening_id), \" + \\\n",
    "                  \"FOREIGN KEY(User_reserved_id) REFERENCES User(User_id), \" + \\\n",
    "                  \"FOREIGN KEY(Auditorium_id) REFERENCES Auditorium(Auditorium_id) \" + \\\n",
    "                   \"); \"\n"
   ]
  },
  {
   "cell_type": "code",
   "execution_count": 114,
   "id": "71d2040f",
   "metadata": {},
   "outputs": [
    {
     "data": {
      "text/plain": [
       "<sqlite3.Cursor at 0x15c34ce2810>"
      ]
     },
     "execution_count": 114,
     "metadata": {},
     "output_type": "execute_result"
    }
   ],
   "source": [
    "cur.execute(createTblAuditorium)\n",
    "cur.execute(createTblUser)\n",
    "cur.execute(createTblMovie)\n",
    "cur.execute(createTblSeat)\n",
    "cur.execute(createTblScreening)\n",
    "cur.execute(createTblSeat_reserved)\n",
    "cur.execute(createTblReservation)"
   ]
  },
  {
   "cell_type": "markdown",
   "id": "01a4a07f",
   "metadata": {},
   "source": [
    "## Tables created\n"
   ]
  },
  {
   "cell_type": "code",
   "execution_count": 115,
   "id": "f17f7c1f",
   "metadata": {},
   "outputs": [
    {
     "name": "stdout",
     "output_type": "stream",
     "text": [
      "['Auditorium', 'User', 'Movie', 'Seat', 'Screening', 'Seat_reserved', 'Reservation']\n"
     ]
    }
   ],
   "source": [
    "def tables_in_sqlite_db(conn):\n",
    "    cursor = conn.execute(\"SELECT name FROM sqlite_master WHERE type='table';\")\n",
    "    tables = [\n",
    "        v[0] for v in cursor.fetchall()\n",
    "        if v[0] != \"sqlite_sequence\"\n",
    "    ]\n",
    "    cursor.close()\n",
    "    return tables\n",
    "# call the function and pass connection object \n",
    "tables = tables_in_sqlite_db(conn)\n",
    "\n",
    "#print tables in the current database\n",
    "print(tables)"
   ]
  },
  {
   "cell_type": "markdown",
   "id": "dc1eacd5",
   "metadata": {},
   "source": [
    "## Pupulate database."
   ]
  },
  {
   "cell_type": "code",
   "execution_count": 116,
   "id": "d2020a76",
   "metadata": {},
   "outputs": [],
   "source": [
    "#inserting data into Auditorium \n",
    "insertAuditoriumStmt =  \"INSERT INTO Auditorium (Auditorium_id, Auditorium_name, Location, Seats_no, Num_screens)\"  + \\\n",
    "                    \"VALUES (?, ?, ?, ?, ?)\""
   ]
  },
  {
   "cell_type": "code",
   "execution_count": 117,
   "id": "bae4c0f5",
   "metadata": {},
   "outputs": [
    {
     "data": {
      "text/plain": [
       "<sqlite3.Cursor at 0x15c34ce2810>"
      ]
     },
     "execution_count": 117,
     "metadata": {},
     "output_type": "execute_result"
    }
   ],
   "source": [
    "cur.execute(insertAuditoriumStmt, (\"0001\", \"Vue\", \"Exeter\",  \"566\", \"2\")) \n",
    "cur.execute(insertAuditoriumStmt, (\"0002\", \"Odeon\", \"London\", \"677\", \"4\")) \n",
    "cur.execute(insertAuditoriumStmt, (\"0003\", \"Cineworld\", \"Glasgow\", \"325\", \"2\")) \n",
    "cur.execute(insertAuditoriumStmt, (\"0004\", \"Empire\", \"London\", \"430\", \"3\"))  \n",
    "cur.execute(insertAuditoriumStmt, (\"0005\", \"Odeon\", \"Cornwall\", \"256\", \"2\"))  \n",
    "cur.execute(insertAuditoriumStmt, (\"0006\", \"Arc\", \"Bristol\", \"590\", \"1\"))  \n",
    "cur.execute(insertAuditoriumStmt, (\"0007\", \"Savoy\", \"Nottingham\", \"650\", \"3\")) \n",
    "cur.execute(insertAuditoriumStmt, (\"0008\", \"Vue\", \"Bristol\", \"425\", \"2\")) \n",
    "cur.execute(insertAuditoriumStmt, (\"0009\", \"Everyman\", \"Manchester\",\"216\", \"1\")) \n",
    "cur.execute(insertAuditoriumStmt, (\"0010\", \"Tivoli\", \"Bath\", \"378\", \"2\"))"
   ]
  },
  {
   "cell_type": "code",
   "execution_count": 127,
   "id": "ee240caf",
   "metadata": {},
   "outputs": [
    {
     "name": "stdout",
     "output_type": "stream",
     "text": [
      "Enter the username: Sanku\n",
      "Enter the password: s\n",
      "Records inserted successfully and committed\n"
     ]
    }
   ],
   "source": [
    "#inserting data into user table using user input\n",
    "\n",
    "username = input(\"Enter the username: \")\n",
    "password = input(\"Enter the password: \")\n",
    "qry=\"insert into User (Username, Password) values (?,?);\"\n",
    "try:\n",
    "        cur.execute(qry, (username, password))\n",
    "        conn.commit()\n",
    "        print ('Records inserted successfully and committed')\n",
    "except Exception as e:\n",
    "        print ('Error in insert operation..rollback')\n",
    "        print(e)\n",
    "        conn.rollback()"
   ]
  },
  {
   "cell_type": "code",
   "execution_count": 128,
   "id": "62f95651",
   "metadata": {},
   "outputs": [],
   "source": [
    "#inserting data into Movie \n",
    "insertMovieStmt =  \"INSERT INTO Movie (Movie_id, Title, Director, Cast, Description, Movie_date, Duration_min)\"  + \\\n",
    "                    \"VALUES (?, ?, ?, ?, ?, ?, ?)\""
   ]
  },
  {
   "cell_type": "code",
   "execution_count": 129,
   "id": "4b80459b",
   "metadata": {},
   "outputs": [
    {
     "data": {
      "text/plain": [
       "<sqlite3.Cursor at 0x15c34ce2810>"
      ]
     },
     "execution_count": 129,
     "metadata": {},
     "output_type": "execute_result"
    }
   ],
   "source": [
    "cur.execute(insertMovieStmt, (\"0001\", \"Cape\", \"Dustan\", \"Princ, Le, Aln, Parnik\", \"Sci-Fi\", \"2022-08-26\", \"130\")) \n",
    "cur.execute(insertMovieStmt, (\"0002\", \"Mission Impossible\", \"Christopher McQuarrie\", \"Tom Cruise, Peter Graves, Hayley Atwell, Rebecca Ferguson\", \"Action\", \"2022-08-12\", \"130\")) \n",
    "cur.execute(insertMovieStmt, (\"0003\", \"Spider-man: No Way Home\", \"Jon Watts\", \"Tom Holland, Tobey Maguire, Andrew Garfield, Zendaya, Benedict Cumberbatch\", \"Sci-Fi\", \"2022-08-12\", \"90\")) \n",
    "cur.execute(insertMovieStmt, (\"0004\", \"The French Dispatch\", \"Wes Anderson\", \"Benecio, Adrian, Tilda\", \"Comedy\", \"2022-08-26\", \"90\")) \n",
    "cur.execute(insertMovieStmt, (\"0005\", \"The Matrix\", \"Wachowski\", \"Keanu Reeves, Laurence, Carrie, Hugo\", \"Action\", \"2022-08-19\", \"150\")) \n",
    "cur.execute(insertMovieStmt, (\"0006\", \"The Conjuring\", \"James Wan\", \"Tom Holland, Hugo, Vera, Patrick\", \"Horror\", \"2022-07-29\", \"90\")) \n",
    "cur.execute(insertMovieStmt, (\"0007\", \"Hera-Pheri\", \"Priyadarshan\", \"Paresh Rawal, Sunil Shetty, Akshay Kumar\", \"Comedy\", \"2022-07-22\", \"150\")) \n",
    "cur.execute(insertMovieStmt, (\"0008\", \"Harry Potter and The Deathly Hallows: Part 2\", \"David Yates\",\"Daniel Radcliffe, Emma Watson, Rupert Grint\", \"Fantasy\", \"2022-07-29\", \"130\")) \n",
    "cur.execute(insertMovieStmt, (\"0009\", \"Momento\", \"Christopher Nolan\", \"Guy Pearce, Carrie, Jo, Greg\", \"Thriller\", \"2022-08-12\", \"120\")) \n",
    "cur.execute(insertMovieStmt, (\"0010\", \"Inception\", \"Christopher Nolan\", \"Leonardo DiCaprio, Ken, Vera\", \"Sci-Fi\", \"2022-08-26\", \"120\")) "
   ]
  },
  {
   "cell_type": "code",
   "execution_count": 130,
   "id": "dda55518",
   "metadata": {},
   "outputs": [],
   "source": [
    "#inserting data into Seat \n",
    "insertSeatStmt =  \"INSERT INTO Seat (Seat_id, Row, Number, Auditorium_id)\"  + \\\n",
    "                    \"VALUES (?, ?, ?, ?)\""
   ]
  },
  {
   "cell_type": "code",
   "execution_count": 131,
   "id": "baf13deb",
   "metadata": {},
   "outputs": [
    {
     "data": {
      "text/plain": [
       "<sqlite3.Cursor at 0x15c34ce2810>"
      ]
     },
     "execution_count": 131,
     "metadata": {},
     "output_type": "execute_result"
    }
   ],
   "source": [
    "cur.execute(insertSeatStmt, (\"0001\", \"A\", \"5\",\"0002\")) \n",
    "cur.execute(insertSeatStmt, (\"0002\", \"B\", \"4\",\"0001\")) \n",
    "cur.execute(insertSeatStmt, (\"0003\", \"C\", \"3\",\"0003\")) \n",
    "cur.execute(insertSeatStmt, (\"0004\", \"D\", \"2\",\"0001\")) \n",
    "cur.execute(insertSeatStmt, (\"0005\", \"E\", \"1\",\"0004\")) \n",
    "cur.execute(insertSeatStmt, (\"0006\", \"E\", \"6\",\"0002\")) \n",
    "cur.execute(insertSeatStmt, (\"0007\", \"D\", \"4\",\"0005\")) \n",
    "cur.execute(insertSeatStmt, (\"0008\", \"B\", \"5\",\"0006\")) \n",
    "cur.execute(insertSeatStmt, (\"0009\", \"C\", \"2\",\"0005\")) \n",
    "cur.execute(insertSeatStmt, (\"0010\", \"A\", \"3\",\"0008\")) \n",
    "cur.execute(insertSeatStmt, (\"0011\", \"C\", \"4\",\"0007\")) \n",
    "cur.execute(insertSeatStmt, (\"0012\", \"D\", \"6\",\"0009\")) \n",
    "cur.execute(insertSeatStmt, (\"0013\", \"B\", \"7\",\"0010\")) \n",
    "cur.execute(insertSeatStmt, (\"0014\", \"A\", \"2\",\"0008\")) \n",
    "cur.execute(insertSeatStmt, (\"0015\", \"B\", \"3\",\"0001\")) \n",
    "cur.execute(insertSeatStmt, (\"0016\", \"E\", \"4\",\"0002\")) \n",
    "cur.execute(insertSeatStmt, (\"0017\", \"D\", \"5\",\"0003\")) \n",
    "cur.execute(insertSeatStmt, (\"0018\", \"C\", \"3\",\"0005\")) \n",
    "cur.execute(insertSeatStmt, (\"0019\", \"A\", \"6\",\"0001\")) \n",
    "cur.execute(insertSeatStmt, (\"0020\", \"B\", \"4\",\"0004\")) "
   ]
  },
  {
   "cell_type": "code",
   "execution_count": 132,
   "id": "839a24fe",
   "metadata": {},
   "outputs": [],
   "source": [
    "#inserting data into Screening \n",
    "insertScreeningStmt =  \"INSERT INTO Screening (Screening_id, Movie_id, Auditorium_id, Screening_start)\"  + \\\n",
    "                    \"VALUES (?, ?, ?, ?)\""
   ]
  },
  {
   "cell_type": "code",
   "execution_count": 133,
   "id": "ea3b5ef4",
   "metadata": {},
   "outputs": [
    {
     "data": {
      "text/plain": [
       "<sqlite3.Cursor at 0x15c34ce2810>"
      ]
     },
     "execution_count": 133,
     "metadata": {},
     "output_type": "execute_result"
    }
   ],
   "source": [
    "cur.execute(insertScreeningStmt, (\"0001\", \"0003\", \"0002\", \"12:00\")) \n",
    "cur.execute(insertScreeningStmt, (\"0002\", \"0002\", \"0001\", \"10:00\")) \n",
    "cur.execute(insertScreeningStmt, (\"0003\", \"0001\", \"0003\", \"09:15\")) \n",
    "cur.execute(insertScreeningStmt, (\"0004\", \"0004\", \"0004\", \"15:00\")) \n",
    "cur.execute(insertScreeningStmt, (\"0005\", \"0005\", \"0005\", \"11:00\")) \n",
    "cur.execute(insertScreeningStmt, (\"0006\", \"0006\", \"0006\", \"12:15\")) \n",
    "cur.execute(insertScreeningStmt, (\"0007\", \"0007\", \"0007\", \"12:30\")) \n",
    "cur.execute(insertScreeningStmt, (\"0008\", \"0008\", \"0008\", \"15:30\")) \n",
    "cur.execute(insertScreeningStmt, (\"0009\", \"0009\", \"0009\", \"10:10\")) \n",
    "cur.execute(insertScreeningStmt, (\"0010\", \"0010\", \"0010\", \"14:00\")) "
   ]
  },
  {
   "cell_type": "code",
   "execution_count": 134,
   "id": "06cd2e0c",
   "metadata": {},
   "outputs": [],
   "source": [
    "#inserting data into Reservation \n",
    "insertReservationStmt =  \"INSERT INTO Reservation (Reservation_id, Screening_id, User_reserved_id, Auditorium_id, Reservation_date, Reservation_contact, Reserved, Paid)\"  + \\\n",
    "                    \"VALUES (?, ?, ?, ?, ?, ?, ?, ?)\""
   ]
  },
  {
   "cell_type": "code",
   "execution_count": 135,
   "id": "e37ff20c",
   "metadata": {},
   "outputs": [
    {
     "data": {
      "text/plain": [
       "<sqlite3.Cursor at 0x15c34ce2810>"
      ]
     },
     "execution_count": 135,
     "metadata": {},
     "output_type": "execute_result"
    }
   ],
   "source": [
    "cur.execute(insertReservationStmt, (\"0001\", \"0001\", \"0001\", \"0002\", \"2022-07-17\", \"04644465678\", \"True\", \"True\")) \n",
    "cur.execute(insertReservationStmt, (\"0002\", \"0003\", \"0002\", \"0002\", \"2022-07-18\", \"04644462345\", \"True\", \"True\")) \n",
    "cur.execute(insertReservationStmt, (\"0003\", \"0002\", \"0003\", \"0001\", \"2022-07-23\", \"04644478965\", \"True\", \"True\")) \n",
    "cur.execute(insertReservationStmt, (\"0004\", \"0003\", \"0004\", \"0002\", \"2022-07-12\", \"04644414598\", \"True\", \"True\")) \n",
    "cur.execute(insertReservationStmt, (\"0005\", \"0001\", \"0005\", \"0002\", \"2022-07-11\", \"04644434598\", \"True\", \"True\")) \n",
    "cur.execute(insertReservationStmt, (\"0006\", \"0004\", \"0006\", \"0003\", \"2022-08-16\", \"04644485634\", \"True\", \"True\")) \n",
    "cur.execute(insertReservationStmt, (\"0007\", \"0005\", \"0007\", \"0004\", \"2022-08-19\", \"04644436508\", \"True\", \"True\")) \n",
    "cur.execute(insertReservationStmt, (\"0008\", \"0006\", \"0008\", \"0003\", \"2022-08-25\", \"04644406783\", \"True\", \"True\")) \n",
    "cur.execute(insertReservationStmt, (\"0009\", \"0007\", \"0009\", \"0005\", \"2022-08-22\", \"04644419485\", \"True\", \"True\")) \n",
    "cur.execute(insertReservationStmt, (\"0010\", \"0001\", \"0010\", \"0002\", \"2022-08-20\", \"04644410076\", \"True\", \"True\")) "
   ]
  },
  {
   "cell_type": "code",
   "execution_count": 136,
   "id": "3026c143",
   "metadata": {},
   "outputs": [],
   "source": [
    "#inserting data into Seat_reserved \n",
    "insertSeat_reservedStmt =  \"INSERT INTO Seat_reserved (Seat_reserved_id, Seat_id, Reservation_id, Screening_id)\"  + \\\n",
    "                    \"VALUES (?, ?, ?, ?)\""
   ]
  },
  {
   "cell_type": "code",
   "execution_count": 137,
   "id": "9e490de5",
   "metadata": {},
   "outputs": [
    {
     "data": {
      "text/plain": [
       "<sqlite3.Cursor at 0x15c34ce2810>"
      ]
     },
     "execution_count": 137,
     "metadata": {},
     "output_type": "execute_result"
    }
   ],
   "source": [
    "cur.execute(insertSeat_reservedStmt, (\"0001\", \"0001\", \"0001\", \"0001\")) \n",
    "cur.execute(insertSeat_reservedStmt, (\"0002\", \"0002\", \"0002\", \"0002\")) \n",
    "cur.execute(insertSeat_reservedStmt, (\"0003\", \"0003\", \"0003\", \"0003\")) \n",
    "cur.execute(insertSeat_reservedStmt, (\"0004\", \"0004\", \"0004\", \"0004\")) \n",
    "cur.execute(insertSeat_reservedStmt, (\"0005\", \"0005\", \"0005\", \"0005\")) \n",
    "cur.execute(insertSeat_reservedStmt, (\"0006\", \"0006\", \"0006\", \"0006\")) \n",
    "cur.execute(insertSeat_reservedStmt, (\"0007\", \"0007\", \"0007\", \"0007\")) \n",
    "cur.execute(insertSeat_reservedStmt, (\"0008\", \"0008\", \"0008\", \"0008\")) \n",
    "cur.execute(insertSeat_reservedStmt, (\"0009\", \"0009\", \"0009\", \"0009\")) \n",
    "cur.execute(insertSeat_reservedStmt, (\"0010\", \"0010\", \"0010\", \"0010\")) "
   ]
  },
  {
   "cell_type": "markdown",
   "id": "1aed2c48",
   "metadata": {},
   "source": [
    "## Viewing the data in tables"
   ]
  },
  {
   "cell_type": "code",
   "execution_count": 138,
   "id": "1521f20d",
   "metadata": {},
   "outputs": [
    {
     "name": "stdout",
     "output_type": "stream",
     "text": [
      "(1, 'Vue', 'Exeter', 566, 2)\n",
      "(2, 'Odeon', 'London', 677, 4)\n",
      "(3, 'Cineworld', 'Glasgow', 325, 2)\n",
      "(4, 'Empire', 'London', 430, 3)\n",
      "(5, 'Odeon', 'Cornwall', 256, 2)\n",
      "(6, 'Arc', 'Bristol', 590, 1)\n",
      "(7, 'Savoy', 'Nottingham', 650, 3)\n",
      "(8, 'Vue', 'Bristol', 425, 2)\n",
      "(9, 'Everyman', 'Manchester', 216, 1)\n",
      "(10, 'Tivoli', 'Bath', 378, 2)\n"
     ]
    }
   ],
   "source": [
    "query_artists = \"SELECT * FROM Auditorium\"\n",
    "cur.execute(query_artists)\n",
    "rows = cur.fetchall()\n",
    "for i in rows:\n",
    "    print(i)"
   ]
  },
  {
   "cell_type": "code",
   "execution_count": 139,
   "id": "31a61216",
   "metadata": {},
   "outputs": [
    {
     "name": "stdout",
     "output_type": "stream",
     "text": [
      "(1, 'ee', 'ee')\n",
      "(2, 'Leo', 's')\n",
      "(3, 'Alna', 's')\n",
      "(4, 'Prince', 'd')\n",
      "(5, 'Parnika', 'g')\n",
      "(6, 'Diya', 'x')\n",
      "(7, 'Amar', 'v')\n",
      "(8, 'Elza', 'q')\n",
      "(9, 'Deepak', 'e')\n",
      "(10, 'Sanku', 's')\n"
     ]
    }
   ],
   "source": [
    "query_artists = \"SELECT * FROM User\"\n",
    "cur.execute(query_artists)\n",
    "rows = cur.fetchall()\n",
    "for i in rows:\n",
    "    print(i)"
   ]
  },
  {
   "cell_type": "code",
   "execution_count": 140,
   "id": "b6d5b589",
   "metadata": {},
   "outputs": [
    {
     "name": "stdout",
     "output_type": "stream",
     "text": [
      "(1, 'Cape', 'Dustan', 'Princ, Le, Aln, Parnik', 'Sci-Fi', '2022-08-26', 130)\n",
      "(2, 'Mission Impossible', 'Christopher McQuarrie', 'Tom Cruise, Peter Graves, Hayley Atwell, Rebecca Ferguson', 'Action', '2022-08-12', 130)\n",
      "(3, 'Spider-man: No Way Home', 'Jon Watts', 'Tom Holland, Tobey Maguire, Andrew Garfield, Zendaya, Benedict Cumberbatch', 'Sci-Fi', '2022-08-12', 90)\n",
      "(4, 'The French Dispatch', 'Wes Anderson', 'Benecio, Adrian, Tilda', 'Comedy', '2022-08-26', 90)\n",
      "(5, 'The Matrix', 'Wachowski', 'Keanu Reeves, Laurence, Carrie, Hugo', 'Action', '2022-08-19', 150)\n",
      "(6, 'The Conjuring', 'James Wan', 'Tom Holland, Hugo, Vera, Patrick', 'Horror', '2022-07-29', 90)\n",
      "(7, 'Hera-Pheri', 'Priyadarshan', 'Paresh Rawal, Sunil Shetty, Akshay Kumar', 'Comedy', '2022-07-22', 150)\n",
      "(8, 'Harry Potter and The Deathly Hallows: Part 2', 'David Yates', 'Daniel Radcliffe, Emma Watson, Rupert Grint', 'Fantasy', '2022-07-29', 130)\n",
      "(9, 'Momento', 'Christopher Nolan', 'Guy Pearce, Carrie, Jo, Greg', 'Thriller', '2022-08-12', 120)\n",
      "(10, 'Inception', 'Christopher Nolan', 'Leonardo DiCaprio, Ken, Vera', 'Sci-Fi', '2022-08-26', 120)\n"
     ]
    }
   ],
   "source": [
    "query_artists = \"SELECT * FROM Movie\"\n",
    "cur.execute(query_artists)\n",
    "rows = cur.fetchall()\n",
    "for i in rows:\n",
    "    print(i)"
   ]
  },
  {
   "cell_type": "code",
   "execution_count": 141,
   "id": "5c7e8914",
   "metadata": {},
   "outputs": [
    {
     "name": "stdout",
     "output_type": "stream",
     "text": [
      "(1, 'A', 5, 2)\n",
      "(2, 'B', 4, 1)\n",
      "(3, 'C', 3, 3)\n",
      "(4, 'D', 2, 1)\n",
      "(5, 'E', 1, 4)\n",
      "(6, 'E', 6, 2)\n",
      "(7, 'D', 4, 5)\n",
      "(8, 'B', 5, 6)\n",
      "(9, 'C', 2, 5)\n",
      "(10, 'A', 3, 8)\n",
      "(11, 'C', 4, 7)\n",
      "(12, 'D', 6, 9)\n",
      "(13, 'B', 7, 10)\n",
      "(14, 'A', 2, 8)\n",
      "(15, 'B', 3, 1)\n",
      "(16, 'E', 4, 2)\n",
      "(17, 'D', 5, 3)\n",
      "(18, 'C', 3, 5)\n",
      "(19, 'A', 6, 1)\n",
      "(20, 'B', 4, 4)\n"
     ]
    }
   ],
   "source": [
    "query_artists = \"SELECT * FROM Seat\"\n",
    "cur.execute(query_artists)\n",
    "rows = cur.fetchall()\n",
    "for i in rows:\n",
    "    print(i)"
   ]
  },
  {
   "cell_type": "code",
   "execution_count": 142,
   "id": "f792cb0b",
   "metadata": {},
   "outputs": [
    {
     "name": "stdout",
     "output_type": "stream",
     "text": [
      "(1, 3, 2, '12:00')\n",
      "(2, 2, 1, '10:00')\n",
      "(3, 1, 3, '09:15')\n",
      "(4, 4, 4, '15:00')\n",
      "(5, 5, 5, '11:00')\n",
      "(6, 6, 6, '12:15')\n",
      "(7, 7, 7, '12:30')\n",
      "(8, 8, 8, '15:30')\n",
      "(9, 9, 9, '10:10')\n",
      "(10, 10, 10, '14:00')\n"
     ]
    }
   ],
   "source": [
    "query_artists = \"SELECT * FROM Screening\"\n",
    "cur.execute(query_artists)\n",
    "rows = cur.fetchall()\n",
    "for i in rows:\n",
    "    print(i)"
   ]
  },
  {
   "cell_type": "code",
   "execution_count": 143,
   "id": "372b21fd",
   "metadata": {},
   "outputs": [
    {
     "name": "stdout",
     "output_type": "stream",
     "text": [
      "(1, 1, 1, 2, '2022-07-17', '04644465678', 'True', 'True')\n",
      "(2, 3, 2, 2, '2022-07-18', '04644462345', 'True', 'True')\n",
      "(3, 2, 3, 1, '2022-07-23', '04644478965', 'True', 'True')\n",
      "(4, 3, 4, 2, '2022-07-12', '04644414598', 'True', 'True')\n",
      "(5, 1, 5, 2, '2022-07-11', '04644434598', 'True', 'True')\n",
      "(6, 4, 6, 3, '2022-08-16', '04644485634', 'True', 'True')\n",
      "(7, 5, 7, 4, '2022-08-19', '04644436508', 'True', 'True')\n",
      "(8, 6, 8, 3, '2022-08-25', '04644406783', 'True', 'True')\n",
      "(9, 7, 9, 5, '2022-08-22', '04644419485', 'True', 'True')\n",
      "(10, 1, 10, 2, '2022-08-20', '04644410076', 'True', 'True')\n"
     ]
    }
   ],
   "source": [
    "query_artists = \"SELECT * FROM Reservation\"\n",
    "cur.execute(query_artists)\n",
    "rows = cur.fetchall()\n",
    "for i in rows:\n",
    "    print(i)"
   ]
  },
  {
   "cell_type": "code",
   "execution_count": 144,
   "id": "9fa4b74a",
   "metadata": {},
   "outputs": [
    {
     "name": "stdout",
     "output_type": "stream",
     "text": [
      "(1, 1, 1, 1)\n",
      "(2, 2, 2, 2)\n",
      "(3, 3, 3, 3)\n",
      "(4, 4, 4, 4)\n",
      "(5, 5, 5, 5)\n",
      "(6, 6, 6, 6)\n",
      "(7, 7, 7, 7)\n",
      "(8, 8, 8, 8)\n",
      "(9, 9, 9, 9)\n",
      "(10, 10, 10, 10)\n"
     ]
    }
   ],
   "source": [
    "query_artists = \"SELECT * FROM Seat_reserved\"\n",
    "cur.execute(query_artists)\n",
    "rows = cur.fetchall()\n",
    "for i in rows:\n",
    "    print(i)"
   ]
  },
  {
   "cell_type": "markdown",
   "id": "e61aca99",
   "metadata": {},
   "source": [
    "## Updating the records"
   ]
  },
  {
   "cell_type": "code",
   "execution_count": 145,
   "id": "ddb33a12",
   "metadata": {},
   "outputs": [
    {
     "name": "stdout",
     "output_type": "stream",
     "text": [
      "Updated Movie table successfully\n"
     ]
    }
   ],
   "source": [
    "#updating the records in Movie table\n",
    "Movieupdatequery=\"update Movie set Title='Kwop' where Movie_id='0001'\"\n",
    "cur.execute(Movieupdatequery)\n",
    "print(\"Updated Movie table successfully\")"
   ]
  },
  {
   "cell_type": "markdown",
   "id": "0596cd29",
   "metadata": {},
   "source": [
    "## Deleting the records"
   ]
  },
  {
   "cell_type": "code",
   "execution_count": 146,
   "id": "6fbbf7ff",
   "metadata": {},
   "outputs": [
    {
     "name": "stdout",
     "output_type": "stream",
     "text": [
      "Your Reservation has been cancelled\n"
     ]
    }
   ],
   "source": [
    "#deleting a record in Reservation table\n",
    "deleteReservationtquery = \"DELETE FROM Seat_reserved WHERE Seat_reserved_id = 0001\"\n",
    "cur.execute(deleteReservationtquery)\n",
    "print(\"Your Reservation has been cancelled\")"
   ]
  },
  {
   "cell_type": "markdown",
   "id": "b8728133",
   "metadata": {},
   "source": [
    "## Analytics and Visualisation"
   ]
  },
  {
   "cell_type": "code",
   "execution_count": 147,
   "id": "ea1080eb",
   "metadata": {},
   "outputs": [
    {
     "data": {
      "application/vnd.jupyter.widget-view+json": {
       "model_id": "77653e64805b4b41ac4317a84e218395",
       "version_major": 2,
       "version_minor": 0
      },
      "text/plain": [
       "Dropdown(description='Year:', options=(2022, 2023, 2024), value=2022)"
      ]
     },
     "metadata": {},
     "output_type": "display_data"
    },
    {
     "data": {
      "application/vnd.jupyter.widget-view+json": {
       "model_id": "b28de6864d354d718e823494b47a68e3",
       "version_major": 2,
       "version_minor": 0
      },
      "text/plain": [
       "Dropdown(description='Month:', options=(1, 2, 3, 4, 5, 6, 7, 8, 9, 10, 11, 12), value=1)"
      ]
     },
     "metadata": {},
     "output_type": "display_data"
    },
    {
     "data": {
      "application/vnd.jupyter.widget-view+json": {
       "model_id": "b06d8c7b4a6142d191289805d775c89c",
       "version_major": 2,
       "version_minor": 0
      },
      "text/plain": [
       "Button(description='Show plot', style=ButtonStyle())"
      ]
     },
     "metadata": {},
     "output_type": "display_data"
    },
    {
     "data": {
      "image/png": "[encoded data removed]",
      "text/plain": [
       "<Figure size 432x288 with 1 Axes>"
      ]
     },
     "metadata": {
      "needs_background": "light"
     },
     "output_type": "display_data"
    },
    {
     "data": {
      "image/png": "[encoded data removed]",
      "text/plain": [
       "<Figure size 432x288 with 1 Axes>"
      ]
     },
     "metadata": {
      "needs_background": "light"
     },
     "output_type": "display_data"
    }
   ],
   "source": [
    "dropdown_year = widgets.Dropdown(\n",
    "    options = [2022, 2023, 2024],\n",
    "    description='Year:'\n",
    ")\n",
    "\n",
    "dropdown_month = widgets.Dropdown(\n",
    "    options = range(1,13),\n",
    "    description='Month:'\n",
    ")\n",
    "\n",
    "button_vis = widgets.Button(description=\"Show plot\")\n",
    "def on_button_vis_clicked(b):\n",
    "    year = dropdown_year.value\n",
    "    month = dropdown_month.value\n",
    "    date1 = datetime.datetime(year, month, 1)\n",
    "    date2 = date1 + relativedelta(months=1)\n",
    "    \n",
    "    \n",
    "    #print(date1)\n",
    "    #print(date2)\n",
    "    query_num_book = \"select count(*) as num_book, a.Auditorium_id, a.Auditorium_name \"  + \\\n",
    "    \"from Reservation rese, Auditorium a \" + \\\n",
    "    \"where rese.Auditorium_id = a.Auditorium_id and \" + \\\n",
    "    \"rese.Reservation_date >= ? and \" + \\\n",
    "    \"rese.Reservation_date < ? \" + \\\n",
    "    \"group by a.Auditorium_id\"\n",
    "     \n",
    "    cur.execute(query_num_book, (date1.strftime(\"%Y-%m-%d\"), date2.strftime(\"%Y-%m-%d\")))\n",
    "    res = cur.fetchall()\n",
    "    df = pd.DataFrame(res, columns = ['num_book', 'Auditorium_id', 'Auditorium_name'])\n",
    "    df.head()\n",
    "    plt.bar(df['Auditorium_name'], df['num_book'], color='royalblue', alpha=0.7)\n",
    "    plt.show()\n",
    "    \n",
    "button_vis.on_click(on_button_vis_clicked)\n",
    "display(dropdown_year)\n",
    "display(dropdown_month)\n",
    "display(button_vis)"
   ]
  },
  {
   "cell_type": "markdown",
   "id": "869c630e",
   "metadata": {},
   "source": [
    "## MongoDB\n"
   ]
  },
  {
   "cell_type": "code",
   "execution_count": 196,
   "id": "13882f2a",
   "metadata": {},
   "outputs": [
    {
     "name": "stdout",
     "output_type": "stream",
     "text": [
      "['admin', 'config']\n",
      "done\n"
     ]
    }
   ],
   "source": [
    "#Importing MongoDB and Establishing the connection\n",
    "import pymongo\n",
    "mongoclient = pymongo.MongoClient(\"mongodb://localhost:27017/\")\n",
    "print(mongoclient.list_database_names())\n",
    "print(\"done\")"
   ]
  },
  {
   "cell_type": "code",
   "execution_count": 197,
   "id": "1e89dba6",
   "metadata": {},
   "outputs": [
    {
     "name": "stdout",
     "output_type": "stream",
     "text": [
      "admin\n",
      "config\n"
     ]
    }
   ],
   "source": [
    "#Defining a function  to list the names of the database\n",
    "dblist=mongoclient.list_database_names()\n",
    "for x in dblist:\n",
    "    print(x)"
   ]
  },
  {
   "cell_type": "code",
   "execution_count": 198,
   "id": "c79651fc",
   "metadata": {},
   "outputs": [],
   "source": [
    "# Defining a user function to check if database exists - In MongoDB, a collection is not created until it gets content MongoDB waits until you have inserted a document before it actually creates the collection.\n",
    "def check_DatabaseExists(argDBName):\n",
    "    local_dblist = mongoclient.list_database_names()\n",
    "    if argDBName in local_dblist:\n",
    "        print(\"The database \", argDBName, \" exists.\")\n",
    "    else:\n",
    "        print(\"The database \", argDBName, \" does not exist.\")\n",
    "\n",
    "#Defining a user function to check if a collection exists - In MongoDB, a collection is not created until it gets content. \n",
    "def check_CollectionExists(argDBName, argCollName, local_mydb):\n",
    "    local_mydb = mongoclient[argDBName]\n",
    "    local_collist = local_mydb.list_collection_names()\n",
    "    if argCollName in local_collist:\n",
    "        print(\"The collection \",  argCollName, \"exists in database \", argDBName)\n",
    "    else:\n",
    "        print(\"The collection \", argCollName, \" does not exist in database \", argDBName)"
   ]
  },
  {
   "cell_type": "markdown",
   "id": "997a9fe7",
   "metadata": {},
   "source": [
    "## Creating Database"
   ]
  },
  {
   "cell_type": "code",
   "execution_count": 199,
   "id": "8a175000",
   "metadata": {},
   "outputs": [
    {
     "name": "stdout",
     "output_type": "stream",
     "text": [
      "<class 'pymongo.database.Database'>\n",
      "done\n"
     ]
    }
   ],
   "source": [
    "#creating the database BEMM459J\n",
    "mydb =mongoclient[\"BEMM459J\"]\n",
    "print(type(mydb))\n",
    "print(\"done\")"
   ]
  },
  {
   "cell_type": "markdown",
   "id": "574e173a",
   "metadata": {},
   "source": [
    "## Creating and Inserting data into collections"
   ]
  },
  {
   "cell_type": "code",
   "execution_count": 200,
   "id": "13b8618e",
   "metadata": {},
   "outputs": [
    {
     "name": "stdout",
     "output_type": "stream",
     "text": [
      "<class 'pymongo.database.Database'>\n"
     ]
    }
   ],
   "source": [
    "#Creating the collection for restaurant\n",
    "restcol=mydb[\"restaurant\"]\n",
    "print(type(mydb))"
   ]
  },
  {
   "cell_type": "code",
   "execution_count": 201,
   "id": "047b811b",
   "metadata": {},
   "outputs": [
    {
     "name": "stdout",
     "output_type": "stream",
     "text": [
      "[100, 101, 102, 103, 104, 105, 106, 107, 108, 109]\n"
     ]
    }
   ],
   "source": [
    "#Inserting data into collection Restaurant\n",
    "restcol=mydb[\"restaurant\"]\n",
    "data = [{\"_id\":100,\"Name\":\"Turtle Bay\", \"Type\":\"caribbean\", \"Address\":\"Unit 14, Queen St, Exeter EX4 3HP\",\"location\":\"Exeter\"},\n",
    "    {\"_id\":101,\"Name\":\"Namaste\", \"Type\":\"Indian\", \"Address\":\"1 Guinea St, Exeter EX1 1BS\",\"location\":\"Exeter\"},\n",
    "    {\"_id\":102,\"Name\":\"Locanda Locatelli\", \"Type\":\"Italian\", \"Address\":\"8 Seymour St, London W1H 7JZ\",\"location\":\"London\"},\n",
    "    {\"_id\":103,\"Name\":\"Ox and Finch\", \"Type\":\"Scottish\", \"Address\":\"920 Sauchiehall St, Finnieston, Glasgow G3 7TF\",\"location\":\"Glasgow\"},\n",
    "    {\"_id\":104,\"Name\":\"Edie's Kitchen\", \"Type\":\"British\", \"Address\":\"10 Beach Rd, Carlyon Bay, Saint Austell PL25 3PH\",\"location\":\"Cornwall\"},\n",
    "    {\"_id\":105,\"Name\":\"Giggling Squid=Clifton\", \"Type\":\"Thai\", \"Address\":\"34 Princess Victoria St, Clifton, Bristol BS8 4BZ\",\"location\":\"Bristol\"},\n",
    "    {\"_id\":106,\"Name\":\"Pho\", \"Type\":\"Vietnamese\", \"Address\":\"24-32 Carlton St, Nottingham NG1 1NN\",\"location\":\"Nottingham\"},\n",
    "    {\"_id\":107,\"Name\":\"Duttons\", \"Type\":\"British\", \"Address\":\"2-10 Albert Square, Manchester M2 6LW\",\"location\":\"Manchester\"},\n",
    "    {\"_id\":108,\"Name\":\"Indian Temptation\", \"Type\":\"Indian\", \"Address\":\"9-10 High St, Bath BA1 5AQ\",\"location\":\"Bath\"},\n",
    "    {\"_id\":109,\"Name\":\"Orient London\", \"Type\":\"Chinese\", \"Address\":\" 15 Wardour St, London W1D 6PH\",\"location\":\"London\"}]\n",
    "var = restcol.insert_many(data)\n",
    "print(var.inserted_ids)"
   ]
  },
  {
   "cell_type": "code",
   "execution_count": 202,
   "id": "ec5e69f8",
   "metadata": {},
   "outputs": [
    {
     "name": "stdout",
     "output_type": "stream",
     "text": [
      "<class 'pymongo.collection.Collection'>\n"
     ]
    }
   ],
   "source": [
    "# creating collection for taxi\n",
    "taxicol = mydb[\"taxi\"]\n",
    "print(type(taxicol))"
   ]
  },
  {
   "cell_type": "code",
   "execution_count": 203,
   "id": "ee9f95da",
   "metadata": {},
   "outputs": [
    {
     "name": "stdout",
     "output_type": "stream",
     "text": [
      "[400, 401, 402, 403, 404, 405, 406, 407, 408]\n"
     ]
    }
   ],
   "source": [
    "# inserting data into taxi\n",
    "taxicol = mydb[\"taxi\"]\n",
    "data = [{\"_id\": 400, \"name\": \"Waterloo Cars\", \"location\": \"london\", \"contact\": [{\"phonenumber\": 2035389188, \"officenumber\": 1029384567}]},\n",
    "    {\"_id\": 401, \"name\": \"Glasgow Taxis\", \"location\": \"Glasgow\", \"contact\": [{\"phonenumber\": 1414297070, \"officenumber\":8495847564}]},\n",
    "    {\"_id\": 402, \"name\": \"Miller's Taxis \", \"location\": \"Cornwall\", \"contact\": [{\"phonenumber\": 7873498349, \"officenumber\":4758693847}]},\n",
    "    {\"_id\": 403, \"name\": \"V CARS TAXIS\", \"location\": \"Bristol\", \"contact\": [{\"phonenumber\": 1179252626, \"officenumber\": 8475856675}]},\n",
    "    {\"_id\": 404, \"name\": \"DG Cars\", \"location\": \"Nottingham\", \"contact\": [{\"phonenumber\":1617407777, \"officenumber\": 4859886975}]},\n",
    "    {\"_id\": 405, \"name\": \"Max Cars\", \"location\": \"Manchester\", \"contact\": [{\"phonenumber\": 1617407777, \"officenumber\": 95647756448}]},\n",
    "    {\"_id\": 406, \"name\": \"Bath Taxi Service\", \"location\": \"Bath\", \"contact\": [{\"phonenumber\": 1225667247, \"officenumber\": 9576885745}]},\n",
    "    {\"_id\": 407, \"name\": \"Blackberry Cars\", \"location\": \"London\", \"contact\": [{\"phonenumber\":2072543344, \"officenumber\": 12735546574}]},\n",
    "    {\"_id\": 408, \"name\": \"Apple Taxis\", \"location\": \"Exeter\", \"contact\": [{\"phonenumber\": 1392666666, \"officenumber\": 1029384577}]}\n",
    "    ]\n",
    "var = taxicol.insert_many(data)\n",
    "print(var.inserted_ids)"
   ]
  },
  {
   "cell_type": "code",
   "execution_count": 204,
   "id": "cb4a97ae",
   "metadata": {},
   "outputs": [
    {
     "name": "stdout",
     "output_type": "stream",
     "text": [
      "<class 'pymongo.collection.Collection'>\n"
     ]
    }
   ],
   "source": [
    "# creating collection for movies\n",
    "moviecol = mydb[\"movies\"]\n",
    "print(type(moviecol))"
   ]
  },
  {
   "cell_type": "code",
   "execution_count": 205,
   "id": "78407e46",
   "metadata": {},
   "outputs": [
    {
     "name": "stdout",
     "output_type": "stream",
     "text": [
      "[500, 501, 502, 503, 504, 505, 506, 507, 508, 509]\n"
     ]
    }
   ],
   "source": [
    "# inserting data into taxi\n",
    "moviecol = mydb[\"movies\"]\n",
    "data = [{\"_id\":500,\"Auditorium\":\"Vue\",\"Location\":\"Exeter\",\"upcoming movies\":[\"Killer of the Flower Moon\",\"Amsterdam\"]},\n",
    "       {\"_id\":501,\"Auditorium\":\"Odeon\",\"Location\":\"London\",\"upcoming movies\":[\"Killer of the Flower Moon\",\"Amsterdam\",\"Northman\"]},\n",
    "       {\"_id\":502,\"Auditorium\":\"Cineworld\",\"Location\":\"Glasgow\",\"upcoming movies\":[\"Avatar 2\",\"Vikram\"]},\n",
    "       {\"_id\":503,\"Auditorium\":\"Empire\",\"Location\":\"London\",\"upcoming movies\":[\"Starworld\",\"Avatar 2\",\"Malayankunju\"]},\n",
    "       {\"_id\":504,\"Auditorium\":\"Odeon\",\"Location\":\"Cornwall\",\"upcoming movies\":[\"Love and THunder\",\"Amsterdam\"]},\n",
    "       {\"_id\":505,\"Auditorium\":\"Arc\",\"Location\":\"Bristol\",\"upcoming movies\":[\"Killer of the Flower Moon\",\"Tenet\"]},\n",
    "       {\"_id\":506,\"Auditorium\":\"Savoy\",\"Location\":\"Nottingham\",\"upcoming movies\":[\"The Hunt\",\"Amsterdam\"]},\n",
    "       {\"_id\":507,\"Auditorium\":\"Vue\",\"Location\":\"Bristol\",\"upcoming movies\":[\"Killer of the Flower Moon\",\"Avatar 2\",\"Dear Friend\"]},\n",
    "       {\"_id\":508,\"Auditorium\":\"Everyman\",\"Location\":\"Manchester\",\"upcoming movies\":[\"Killer of the Flower Moon\",\"Hridayam\",\"RRR\"]},\n",
    "       {\"_id\":509,\"Auditorium\":\"Tivoli\",\"Location\":\"Bath\",\"upcoming movies\":[\"Killer of the Flower Moon\",\"Pushpa\",\"Dear Friend\"]}\n",
    "       ]\n",
    "var = moviecol.insert_many(data)\n",
    "print(var.inserted_ids)"
   ]
  },
  {
   "cell_type": "markdown",
   "id": "8da8db15",
   "metadata": {},
   "source": [
    "## Displaying"
   ]
  },
  {
   "cell_type": "code",
   "execution_count": 206,
   "id": "9652d1f1",
   "metadata": {},
   "outputs": [
    {
     "name": "stdout",
     "output_type": "stream",
     "text": [
      "movies\n",
      "taxi\n",
      "restaurant\n"
     ]
    }
   ],
   "source": [
    "# display all the collections\n",
    "collist = mydb.list_collection_names()\n",
    "for x in collist:\n",
    "    print(x) "
   ]
  },
  {
   "cell_type": "code",
   "execution_count": 207,
   "id": "45dcd455",
   "metadata": {},
   "outputs": [
    {
     "name": "stdout",
     "output_type": "stream",
     "text": [
      "{'_id': 100, 'Name': 'Turtle Bay', 'Type': 'caribbean', 'Address': 'Unit 14, Queen St, Exeter EX4 3HP', 'location': 'Exeter'}\n",
      "{'_id': 101, 'Name': 'Namaste', 'Type': 'Indian', 'Address': '1 Guinea St, Exeter EX1 1BS', 'location': 'Exeter'}\n",
      "{'_id': 102, 'Name': 'Locanda Locatelli', 'Type': 'Italian', 'Address': '8 Seymour St, London W1H 7JZ', 'location': 'London'}\n",
      "{'_id': 103, 'Name': 'Ox and Finch', 'Type': 'Scottish', 'Address': '920 Sauchiehall St, Finnieston, Glasgow G3 7TF', 'location': 'Glasgow'}\n",
      "{'_id': 104, 'Name': \"Edie's Kitchen\", 'Type': 'British', 'Address': '10 Beach Rd, Carlyon Bay, Saint Austell PL25 3PH', 'location': 'Cornwall'}\n",
      "{'_id': 105, 'Name': 'Giggling Squid=Clifton', 'Type': 'Thai', 'Address': '34 Princess Victoria St, Clifton, Bristol BS8 4BZ', 'location': 'Bristol'}\n",
      "{'_id': 106, 'Name': 'Pho', 'Type': 'Vietnamese', 'Address': '24-32 Carlton St, Nottingham NG1 1NN', 'location': 'Nottingham'}\n",
      "{'_id': 107, 'Name': 'Duttons', 'Type': 'British', 'Address': '2-10 Albert Square, Manchester M2 6LW', 'location': 'Manchester'}\n",
      "{'_id': 108, 'Name': 'Indian Temptation', 'Type': 'Indian', 'Address': '9-10 High St, Bath BA1 5AQ', 'location': 'Bath'}\n",
      "{'_id': 109, 'Name': 'Orient London', 'Type': 'Chinese', 'Address': ' 15 Wardour St, London W1D 6PH', 'location': 'London'}\n"
     ]
    }
   ],
   "source": [
    "# display the records in hotel collection\n",
    "result = restcol.find()\n",
    "for x in result:\n",
    "    print(x)"
   ]
  },
  {
   "cell_type": "code",
   "execution_count": 208,
   "id": "7bc28382",
   "metadata": {},
   "outputs": [
    {
     "name": "stdout",
     "output_type": "stream",
     "text": [
      "{'_id': 400, 'name': 'Waterloo Cars', 'location': 'london', 'contact': [{'phonenumber': 2035389188, 'officenumber': 1029384567}]}\n",
      "{'_id': 401, 'name': 'Glasgow Taxis', 'location': 'Glasgow', 'contact': [{'phonenumber': 1414297070, 'officenumber': 8495847564}]}\n",
      "{'_id': 402, 'name': \"Miller's Taxis \", 'location': 'Cornwall', 'contact': [{'phonenumber': 7873498349, 'officenumber': 4758693847}]}\n",
      "{'_id': 403, 'name': 'V CARS TAXIS', 'location': 'Bristol', 'contact': [{'phonenumber': 1179252626, 'officenumber': 8475856675}]}\n",
      "{'_id': 404, 'name': 'DG Cars', 'location': 'Nottingham', 'contact': [{'phonenumber': 1617407777, 'officenumber': 4859886975}]}\n",
      "{'_id': 405, 'name': 'Max Cars', 'location': 'Manchester', 'contact': [{'phonenumber': 1617407777, 'officenumber': 95647756448}]}\n",
      "{'_id': 406, 'name': 'Bath Taxi Service', 'location': 'Bath', 'contact': [{'phonenumber': 1225667247, 'officenumber': 9576885745}]}\n",
      "{'_id': 407, 'name': 'Blackberry Cars', 'location': 'London', 'contact': [{'phonenumber': 2072543344, 'officenumber': 12735546574}]}\n",
      "{'_id': 408, 'name': 'Apple Taxis', 'location': 'Exeter', 'contact': [{'phonenumber': 1392666666, 'officenumber': 1029384577}]}\n"
     ]
    }
   ],
   "source": [
    "# display the records in taxi collection\n",
    "result = taxicol.find()\n",
    "for x in result:\n",
    "    print(x)"
   ]
  },
  {
   "cell_type": "code",
   "execution_count": 209,
   "id": "6ec10c19",
   "metadata": {},
   "outputs": [
    {
     "name": "stdout",
     "output_type": "stream",
     "text": [
      "{'_id': 500, 'Auditorium': 'Vue', 'Location': 'Exeter', 'upcoming movies': ['Killer of the Flower Moon', 'Amsterdam']}\n",
      "{'_id': 501, 'Auditorium': 'Odeon', 'Location': 'London', 'upcoming movies': ['Killer of the Flower Moon', 'Amsterdam', 'Northman']}\n",
      "{'_id': 502, 'Auditorium': 'Cineworld', 'Location': 'Glasgow', 'upcoming movies': ['Avatar 2', 'Vikram']}\n",
      "{'_id': 503, 'Auditorium': 'Empire', 'Location': 'London', 'upcoming movies': ['Starworld', 'Avatar 2', 'Malayankunju']}\n",
      "{'_id': 504, 'Auditorium': 'Odeon', 'Location': 'Cornwall', 'upcoming movies': ['Love and THunder', 'Amsterdam']}\n",
      "{'_id': 505, 'Auditorium': 'Arc', 'Location': 'Bristol', 'upcoming movies': ['Killer of the Flower Moon', 'Tenet']}\n",
      "{'_id': 506, 'Auditorium': 'Savoy', 'Location': 'Nottingham', 'upcoming movies': ['The Hunt', 'Amsterdam']}\n",
      "{'_id': 507, 'Auditorium': 'Vue', 'Location': 'Bristol', 'upcoming movies': ['Killer of the Flower Moon', 'Avatar 2', 'Dear Friend']}\n",
      "{'_id': 508, 'Auditorium': 'Everyman', 'Location': 'Manchester', 'upcoming movies': ['Killer of the Flower Moon', 'Hridayam', 'RRR']}\n",
      "{'_id': 509, 'Auditorium': 'Tivoli', 'Location': 'Bath', 'upcoming movies': ['Killer of the Flower Moon', 'Pushpa', 'Dear Friend']}\n"
     ]
    }
   ],
   "source": [
    "# display the upcoming Movies in Movie collection\n",
    "result = moviecol.find()\n",
    "for x in result:\n",
    "    print(x)"
   ]
  },
  {
   "cell_type": "markdown",
   "id": "02e0bddc",
   "metadata": {},
   "source": [
    "## Linking SQL and NoSQL"
   ]
  },
  {
   "cell_type": "code",
   "execution_count": 210,
   "id": "7ea186a9",
   "metadata": {},
   "outputs": [
    {
     "name": "stdout",
     "output_type": "stream",
     "text": [
      "Enter the Auditorium_id: 004\n"
     ]
    }
   ],
   "source": [
    "#Using the AuditoriumID to get the details of the auditorium \n",
    "AuditoriumID = input(\"Enter the Auditorium_id: \" )"
   ]
  },
  {
   "cell_type": "code",
   "execution_count": 211,
   "id": "f76e3633",
   "metadata": {},
   "outputs": [
    {
     "name": "stdout",
     "output_type": "stream",
     "text": [
      "The Location for the given auditorium is London\n"
     ]
    }
   ],
   "source": [
    "# finding the Location for the given reservationID\n",
    "query = \"select Location from Auditorium where Auditorium_id = '{}'\".format(AuditoriumID)\n",
    "cur.execute(query)\n",
    "rows=cur.fetchone()\n",
    "print(\"The Location for the given auditorium is {}\".format(rows[0]))"
   ]
  },
  {
   "cell_type": "code",
   "execution_count": 212,
   "id": "a3d4c526",
   "metadata": {},
   "outputs": [
    {
     "name": "stdout",
     "output_type": "stream",
     "text": [
      "Restaurant recommendations for London\n",
      "{'_id': 102, 'Name': 'Locanda Locatelli', 'Type': 'Italian', 'Address': '8 Seymour St, London W1H 7JZ', 'location': 'London'}\n",
      "{'_id': 109, 'Name': 'Orient London', 'Type': 'Chinese', 'Address': ' 15 Wardour St, London W1D 6PH', 'location': 'London'}\n"
     ]
    }
   ],
   "source": [
    "# Getting Restaurant recommendations for the given Location\n",
    "result = restcol.find({\"location\": rows[0]})\n",
    "print(\"Restaurant recommendations for {}\".format(rows[0]))\n",
    "for x in result:\n",
    "    print(x)"
   ]
  },
  {
   "cell_type": "code",
   "execution_count": 213,
   "id": "3a1d2160",
   "metadata": {},
   "outputs": [
    {
     "name": "stdout",
     "output_type": "stream",
     "text": [
      "Taxi recommendations for London\n",
      "{'_id': 407, 'name': 'Blackberry Cars', 'location': 'London', 'contact': [{'phonenumber': 2072543344, 'officenumber': 12735546574}]}\n"
     ]
    }
   ],
   "source": [
    "# Getting taxi recommendations for the given Location\n",
    "result = taxicol.find({\"location\": rows[0]})\n",
    "print(\"Taxi recommendations for {}\".format(rows[0]))\n",
    "for x in result:\n",
    "    print(x)"
   ]
  },
  {
   "cell_type": "code",
   "execution_count": 214,
   "id": "cbc4b9c4",
   "metadata": {},
   "outputs": [
    {
     "name": "stdout",
     "output_type": "stream",
     "text": [
      "Upcoming Movies for London\n",
      "{'_id': 501, 'Auditorium': 'Odeon', 'Location': 'London', 'upcoming movies': ['Killer of the Flower Moon', 'Amsterdam', 'Northman']}\n",
      "{'_id': 503, 'Auditorium': 'Empire', 'Location': 'London', 'upcoming movies': ['Starworld', 'Avatar 2', 'Malayankunju']}\n"
     ]
    }
   ],
   "source": [
    "# Getting Upcoming Movies for the given Auditorium \n",
    "result = moviecol.find({\"Location\": rows[0]})\n",
    "print(\"Upcoming Movies for {}\".format(rows[0]))\n",
    "for x in result:\n",
    "    print(x)"
   ]
  },
  {
   "cell_type": "markdown",
   "id": "3ce76eee",
   "metadata": {},
   "source": [
    "## Dropping collections"
   ]
  },
  {
   "cell_type": "code",
   "execution_count": null,
   "id": "389e7804",
   "metadata": {},
   "outputs": [],
   "source": [
    "# drop restaurant collection\n",
    "restcol.drop()\n",
    "print(\"Successfully dropped restaurant collection\")\n",
    "#Check if the collection exists by calling the user function defined earlier\n",
    "check_CollectionExists(\"BEMM459J\", \"restaurant\", mydb)"
   ]
  },
  {
   "cell_type": "code",
   "execution_count": null,
   "id": "93e81f62",
   "metadata": {},
   "outputs": [],
   "source": [
    "#drop taxi collection\n",
    "taxicol.drop()\n",
    "print(\"Successfully dropped taxi collection\")\n",
    "#Check if the collection exists by calling the user function defined earlier\n",
    "check_CollectionExists(\"BEMM459J\", \"taxi\", mydb)"
   ]
  },
  {
   "cell_type": "code",
   "execution_count": null,
   "id": "a97e9225",
   "metadata": {},
   "outputs": [],
   "source": [
    "#drop movies collection\n",
    "moviecol.drop()\n",
    "print(\"Successfully dropped movie collection\")\n",
    "#Check if the collection exists by calling the user function defined earlier\n",
    "check_CollectionExists(\"BEMM459J\", \"movie\", mydb)"
   ]
  },
  {
   "cell_type": "code",
   "execution_count": null,
   "id": "63edef0f",
   "metadata": {},
   "outputs": [],
   "source": [
    "#Drop database using instance of MongoCLient\n",
    "mongoclient.drop_database(\"BEMM459J\")\n",
    "#Check to see if database exists by calling the user function defined earlier \n",
    "check_DatabaseExists(\"BEMM459J\")"
   ]
  }
 ],
 "metadata": {
  "kernelspec": {
   "display_name": "Python 3 (ipykernel)",
   "language": "python",
   "name": "python3"
  },
  "language_info": {
   "codemirror_mode": {
    "name": "ipython",
    "version": 3
   },
   "file_extension": ".py",
   "mimetype": "text/x-python",
   "name": "python",
   "nbconvert_exporter": "python",
   "pygments_lexer": "ipython3",
   "version": "3.9.12"
  }
 },
 "nbformat": 4,
 "nbformat_minor": 5
}
